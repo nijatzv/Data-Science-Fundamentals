{
 "cells": [
  {
   "cell_type": "markdown",
   "id": "41d6ce9b",
   "metadata": {},
   "source": [
    "# Python Tasks on Functions"
   ]
  },
  {
   "cell_type": "markdown",
   "id": "05b65460",
   "metadata": {},
   "source": [
    "Write a Python function to sum all the numbers in a list.\n",
    "Sample List : (8, 2, 3, 0, 7)\n",
    "Expected Output : 20"
   ]
  },
  {
   "cell_type": "code",
   "execution_count": 5,
   "id": "cdac2bab",
   "metadata": {},
   "outputs": [
    {
     "name": "stdout",
     "output_type": "stream",
     "text": [
      "20\n"
     ]
    }
   ],
   "source": [
    "def sum_of(numbers):\n",
    "    total = 0\n",
    "    for i in numbers:\n",
    "        total += i\n",
    "    return total\n",
    "\n",
    "print(sum_of((8,7,2,0,3)))"
   ]
  },
  {
   "cell_type": "markdown",
   "id": "e72418b3",
   "metadata": {},
   "source": [
    "----------\n",
    "Write a  Python function to find the maximum of three numbers."
   ]
  },
  {
   "cell_type": "code",
   "execution_count": 13,
   "id": "fddd15a0",
   "metadata": {},
   "outputs": [
    {
     "name": "stdout",
     "output_type": "stream",
     "text": [
      "8.2\n"
     ]
    }
   ],
   "source": [
    "def max_of_2(x,y):\n",
    "    if x>y:\n",
    "        return x\n",
    "    return y\n",
    "\n",
    "def max_of_3(x,y,z):\n",
    "    return max_of_2(max_of_2(x,y), z)\n",
    "\n",
    "\n",
    "print(max_of_3(3, -1, 8.2))"
   ]
  },
  {
   "cell_type": "markdown",
   "id": "e7a3c92a",
   "metadata": {},
   "source": [
    "----------\n",
    "Write a  Python function to multiply all the numbers in a list.\n",
    "Sample List : (8, 2, 3, -1, 7)\n",
    "Expected Output : -336"
   ]
  },
  {
   "cell_type": "code",
   "execution_count": 16,
   "id": "b79c882f",
   "metadata": {},
   "outputs": [
    {
     "name": "stdout",
     "output_type": "stream",
     "text": [
      "-336\n"
     ]
    }
   ],
   "source": [
    "def multiply(nums):\n",
    "    total = 1\n",
    "    for i in nums:\n",
    "        total *= i\n",
    "    return total\n",
    "\n",
    "print(multiply((8, 2, 3, -1, 7)))"
   ]
  },
  {
   "cell_type": "markdown",
   "id": "8cb66992",
   "metadata": {},
   "source": [
    "----------\n",
    "Write a Python program to reverse a string.\n",
    "Sample String : \"1234abcd\"\n",
    "Expected Output : \"dcba4321\""
   ]
  },
  {
   "cell_type": "code",
   "execution_count": 39,
   "id": "fad00046",
   "metadata": {},
   "outputs": [
    {
     "name": "stdout",
     "output_type": "stream",
     "text": [
      "tajiN si eman ym ,iH\n"
     ]
    }
   ],
   "source": [
    "def reverse_str(str1):\n",
    "    rstr1 = ''\n",
    "    index = len(str1)\n",
    "    while index > 0:\n",
    "        rstr1 += str1[index - 1]\n",
    "        index = index - 1\n",
    "    return rstr1\n",
    "\n",
    "print(reverse_str(('Hi, my name is Nijat')))    "
   ]
  },
  {
   "cell_type": "markdown",
   "id": "031beb57",
   "metadata": {},
   "source": [
    "----------\n",
    "Write a Python function that accepts a string and counts the number of upper and lower case letters.\n",
    "Sample String : 'The quick Brow Fox'\n",
    "Expected Output :\n",
    "No. of Upper case characters : 3\n",
    "No. of Lower case Characters : 12"
   ]
  },
  {
   "cell_type": "code",
   "execution_count": 10,
   "id": "9ddf6f89",
   "metadata": {},
   "outputs": [
    {
     "name": "stdout",
     "output_type": "stream",
     "text": [
      "Original: \n",
      "Num of uppercase chars:  3\n",
      "Num of lowercase chars:  12\n"
     ]
    }
   ],
   "source": [
    "def count(string):\n",
    "    d = {\"UPPER_CASE\": 0, \"LOWER_CASE\": 0}\n",
    "    for i in string:\n",
    "        if i.isupper():\n",
    "            d[\"UPPER_CASE\"] += 1\n",
    "        elif i.islower():\n",
    "            d[\"LOWER_CASE\"] += 1\n",
    "        else:\n",
    "            pass\n",
    "        \n",
    "    print(\"Original: \")\n",
    "    print(\"Num of uppercase chars: \", d['UPPER_CASE'])\n",
    "    print(\"Num of lowercase chars: \", d['LOWER_CASE'])\n",
    "    \n",
    "count(\"The quick Brow Fox\")"
   ]
  },
  {
   "cell_type": "markdown",
   "id": "78e32cd2",
   "metadata": {},
   "source": [
    "----------\n",
    "Write a  Python function that takes a list and returns a new list with distinct elements from the first list."
   ]
  },
  {
   "cell_type": "code",
   "execution_count": 13,
   "id": "d2feab7e",
   "metadata": {},
   "outputs": [
    {
     "name": "stdout",
     "output_type": "stream",
     "text": [
      "[1, 2, 3, 4, 5]\n"
     ]
    }
   ],
   "source": [
    "def unique(l):\n",
    "    x = []\n",
    "    for i in l:\n",
    "        if i not in x:\n",
    "            x.append(i)\n",
    "    return x\n",
    "\n",
    "print(unique([1, 2, 3, 3, 3, 3, 4, 5]))"
   ]
  },
  {
   "cell_type": "markdown",
   "id": "8107fc1c",
   "metadata": {},
   "source": [
    "---\n",
    "Write a Python function that takes a number as a parameter and checks whether the number is prime or not.\n",
    "Note : A prime number (or a prime) is a natural number greater than 1 and that has no positive divisors other than 1 and itself."
   ]
  },
  {
   "cell_type": "code",
   "execution_count": 19,
   "id": "c21fff86",
   "metadata": {},
   "outputs": [
    {
     "name": "stdout",
     "output_type": "stream",
     "text": [
      "True\n"
     ]
    }
   ],
   "source": [
    "def test_prime(n):\n",
    "    if n == 1:\n",
    "        return False\n",
    "    elif n == 2:\n",
    "        return True\n",
    "    else:\n",
    "        for i in range(2, n):\n",
    "            if n % i == 0:\n",
    "                return False\n",
    "            return True\n",
    "        \n",
    "print(test_prime(7))"
   ]
  },
  {
   "cell_type": "markdown",
   "id": "1436e828",
   "metadata": {},
   "source": [
    "----"
   ]
  }
 ],
 "metadata": {
  "kernelspec": {
   "display_name": "Python 3 (ipykernel)",
   "language": "python",
   "name": "python3"
  },
  "language_info": {
   "codemirror_mode": {
    "name": "ipython",
    "version": 3
   },
   "file_extension": ".py",
   "mimetype": "text/x-python",
   "name": "python",
   "nbconvert_exporter": "python",
   "pygments_lexer": "ipython3",
   "version": "3.11.5"
  }
 },
 "nbformat": 4,
 "nbformat_minor": 5
}
